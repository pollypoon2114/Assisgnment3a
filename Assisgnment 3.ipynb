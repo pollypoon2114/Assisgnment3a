{
 "cells": [
  {
   "cell_type": "markdown",
   "id": "42a439f8-d414-44b0-b0f2-0f4a84375023",
   "metadata": {},
   "source": [
    "# My Jupyter Notebook on IBM Watson Studio"
   ]
  },
  {
   "cell_type": "markdown",
   "id": "c62cd4c7-71c9-4a1f-9d51-db6e4467766c",
   "metadata": {},
   "source": [
    "**Poon Suk Yean**"
   ]
  },
  {
   "cell_type": "markdown",
   "id": "79810261-6f2d-4390-81d6-044548950f72",
   "metadata": {},
   "source": [
    "Bioinformatrician"
   ]
  },
  {
   "cell_type": "markdown",
   "id": "3803915c-087e-4261-a186-36155814aee3",
   "metadata": {},
   "source": [
    "*I am interested in Data Science because Data Sciences is powerful for large database. Human eye is limited in the cases which dealing with tons of data. We need a systematic and speedy way for quick analysis.*"
   ]
  },
  {
   "cell_type": "markdown",
   "id": "dfdf17db-a265-4afd-a7b8-c8b76255f052",
   "metadata": {},
   "source": [
    "### Output = 2"
   ]
  },
  {
   "cell_type": "code",
   "execution_count": 2,
   "id": "18a6b30b-c2bb-41db-95f4-c3286492b595",
   "metadata": {},
   "outputs": [
    {
     "data": {
      "text/plain": [
       "2"
      ]
     },
     "execution_count": 2,
     "metadata": {},
     "output_type": "execute_result"
    }
   ],
   "source": [
    "1+1"
   ]
  },
  {
   "cell_type": "markdown",
   "id": "ccf065fd-d04c-4647-92d3-4a0e9492837d",
   "metadata": {},
   "source": [
    "- Test 1\n",
    "- Test 2\n",
    "- Test 3\n",
    "\n",
    "1. Test 1\n",
    "2. Test 2\n",
    "3. Test 3\n",
    "\n",
    "~~This is a strikethrough sentence.~~"
   ]
  }
 ],
 "metadata": {
  "kernelspec": {
   "display_name": "Python",
   "language": "python",
   "name": "conda-env-python-py"
  },
  "language_info": {
   "codemirror_mode": {
    "name": "ipython",
    "version": 3
   },
   "file_extension": ".py",
   "mimetype": "text/x-python",
   "name": "python",
   "nbconvert_exporter": "python",
   "pygments_lexer": "ipython3",
   "version": "3.7.12"
  }
 },
 "nbformat": 4,
 "nbformat_minor": 5
}
